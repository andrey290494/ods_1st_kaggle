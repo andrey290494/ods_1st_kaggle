{
 "cells": [
  {
   "cell_type": "code",
   "execution_count": 349,
   "metadata": {},
   "outputs": [],
   "source": [
    "import warnings\n",
    "import numpy as np\n",
    "import pandas as pd\n",
    "from pathlib import Path\n",
    "from sklearn.model_selection import train_test_split, GridSearchCV\n",
    "from sklearn.metrics import roc_auc_score\n",
    "from catboost import CatBoostClassifier\n",
    "import catboost\n",
    "from matplotlib import pyplot as plt\n",
    "import seaborn as sns\n",
    "import operator"
   ]
  },
  {
   "cell_type": "markdown",
   "metadata": {},
   "source": [
    "**Read the data**"
   ]
  },
  {
   "cell_type": "code",
   "execution_count": 350,
   "metadata": {},
   "outputs": [],
   "source": [
    "train_df = pd.read_csv('flight_delays_train.csv')\n",
    "test_df = pd.read_csv('flight_delays_test.csv')"
   ]
  },
  {
   "cell_type": "code",
   "execution_count": 351,
   "metadata": {},
   "outputs": [
    {
     "name": "stderr",
     "output_type": "stream",
     "text": [
      "c:\\users\\asus\\appdata\\local\\programs\\python\\python36\\lib\\site-packages\\ipykernel_launcher.py:1: FutureWarning: Sorting because non-concatenation axis is not aligned. A future version\n",
      "of pandas will change to not sort by default.\n",
      "\n",
      "To accept the future behavior, pass 'sort=False'.\n",
      "\n",
      "To retain the current behavior and silence the warning, pass 'sort=True'.\n",
      "\n",
      "  \"\"\"Entry point for launching an IPython kernel.\n"
     ]
    }
   ],
   "source": [
    "dataset = pd.concat([train_df, test_df], axis = 0)"
   ]
  },
  {
   "cell_type": "code",
   "execution_count": 352,
   "metadata": {},
   "outputs": [],
   "source": [
    "for col in ['Month', 'DayofMonth', 'DayOfWeek'] : dataset[col] = dataset[col].apply(lambda x: x.split('-')[1]).astype(np.int32) - 1\n"
   ]
  },
  {
   "cell_type": "code",
   "execution_count": 353,
   "metadata": {},
   "outputs": [],
   "source": [
    "# Hour and minute\n",
    "dataset['hour'] = dataset['DepTime'] // 100\n",
    "#dataset['Dep_hour_flag'] = ((dataset['hour'] >= 6) & (dataset['hour'] < 23)).astype('int')\n",
    "\n",
    "dataset.loc[dataset['hour'] == 24, 'hour'] = 0\n",
    "dataset.loc[dataset['hour'] == 25, 'hour'] = 1\n",
    "dataset['minute'] = dataset['DepTime'] % 100\n",
    "\n",
    "# Season\n",
    "#dataset['summer'] = (dataset['Month'].isin([6, 7, 8])).astype(np.int32)\n",
    "# dataset['autumn'] = (dataset['Month'].isin([9, 10, 11])).astype(np.int32)\n",
    "# dataset['winter'] = (dataset['Month'].isin([12, 1, 2])).astype(np.int32)\n",
    "# dataset['spring'] = (dataset['Month'].isin([3, 4, 5])).astype(np.int32)\n",
    "\n",
    "# Daytime\n",
    "dataset['daytime'] = pd.cut(dataset['hour'], bins=[0,6,10,12,14,16,18,20,23], include_lowest=True)\n",
    "dataset['daytime']  = pd.factorize(dataset.daytime)[0]\n",
    "dataset['Dist'] = pd.cut(dataset['Distance'], bins=[0, 200, 400, 600, 800, 1000,1200,1400,1600, 2000, 3000], include_lowest=True)\n",
    "dataset['Dist']  = pd.factorize(dataset.Dist)[0]\n",
    "\n",
    "\n",
    "# Extract the labels\n",
    "dataset['dep_delayed_15min'] = dataset['dep_delayed_15min'].map({'N' : 0, 'Y' : 1})\n",
    "\n",
    "dataset['flight'] = dataset['Origin'] + '-->' + dataset['Dest']  # correlate with Distance\n",
    "\n",
    "carriers_list = dataset.UniqueCarrier.value_counts().head(10).index.tolist()\n",
    "dataset['UniqueCarrier'] = dataset.UniqueCarrier.apply(lambda x: x if x in carriers_list else 'other')"
   ]
  },
  {
   "cell_type": "code",
   "execution_count": 354,
   "metadata": {},
   "outputs": [],
   "source": [
    "## killing features\n",
    "\n",
    "dataset['new1'] = dataset.hour.astype(str) + dataset.Origin.astype(str)\n",
    "dataset['new2'] = dataset.hour.astype(str) + dataset.Dest.astype(str)\n",
    "dataset['new3'] = dataset['UniqueCarrier'].astype(str) + dataset['Dist'].astype(str)\n",
    "dataset['new4'] = dataset['Origin'].astype(str) + dataset['Dist'].astype(str)\n",
    "dataset['new5'] = dataset['Dest'].astype(str) + dataset['Dist'].astype(str)\n",
    "dataset['new6'] = dataset['UniqueCarrier'].astype(str) + dataset['hour'].astype(str)\n",
    "\n",
    "dataset['new7'] = dataset['hour'].astype(str) + dataset['DayOfWeek'].astype(str)\n",
    "dataset['new8'] = dataset['hour'].astype(str) + dataset['Month'].astype(str)\n",
    "dataset['new9'] = dataset['new6'].astype(str) + dataset['new1'].astype(str)\n"
   ]
  },
  {
   "cell_type": "code",
   "execution_count": 355,
   "metadata": {},
   "outputs": [],
   "source": [
    "#dataset = pd.concat([dataset,pd.get_dummies(dataset.UniqueCarrier)],axis=1)\n",
    "#dataset = pd.concat([dataset,pd.get_dummies(dataset.Origin)],axis=1)\n",
    "#dataset = pd.concat([dataset,pd.get_dummies(dataset.Dest)],axis=1)"
   ]
  },
  {
   "cell_type": "code",
   "execution_count": 356,
   "metadata": {},
   "outputs": [],
   "source": [
    "# for i,col in enumerate(train_df.columns):\n",
    "#     if train_df[col].dtype == 'int32':\n",
    "        #plt.figure(i)\n",
    "# sns.distplot(dataset.spring[dataset.dep_delayed_15min == 1], hist=False, label = 'delayed')\n",
    "# sns.distplot(dataset.spring[dataset.dep_delayed_15min == 0], hist=False, label = 'non delayed')"
   ]
  },
  {
   "cell_type": "markdown",
   "metadata": {},
   "source": [
    "**Allocate a hold-out set (a.k.a. a validation set) to validate the model**"
   ]
  },
  {
   "cell_type": "code",
   "execution_count": 357,
   "metadata": {},
   "outputs": [],
   "source": [
    "dataset.drop(columns = ['Dist', 'flight', 'daytime'] ,axis = 1, inplace = True)"
   ]
  },
  {
   "cell_type": "code",
   "execution_count": 367,
   "metadata": {},
   "outputs": [],
   "source": [
    "cols = ['DayOfWeek', 'DayofMonth', 'Dest', 'Month', 'Origin',\n",
    "       'UniqueCarrier', 'hour', 'minute', \n",
    "       'new1', 'new2','new3','new4','new5','new6','new7','new8','new9']\n",
    "for col in cols:\n",
    "    dataset[col] = dataset[col].astype('category')\n",
    "    "
   ]
  },
  {
   "cell_type": "code",
   "execution_count": 368,
   "metadata": {},
   "outputs": [],
   "source": [
    "X_train = dataset[pd.notna(dataset.dep_delayed_15min) == True].drop('dep_delayed_15min', axis=1)\n",
    "y_train = dataset[pd.notna(dataset.dep_delayed_15min) == True]['dep_delayed_15min']\n",
    "X_test = dataset[pd.notna(dataset.dep_delayed_15min) == False].drop('dep_delayed_15min', axis=1)"
   ]
  },
  {
   "cell_type": "code",
   "execution_count": 369,
   "metadata": {},
   "outputs": [
    {
     "name": "stdout",
     "output_type": "stream",
     "text": [
      "[ 0  1  3  5  6  7  8  9 10 11 12 13 14 15 16 17 18]\n"
     ]
    }
   ],
   "source": [
    "categ_feat_idx = np.where(X_train.dtypes == 'category')[0]\n",
    "print(categ_feat_idx)"
   ]
  },
  {
   "cell_type": "code",
   "execution_count": 370,
   "metadata": {},
   "outputs": [],
   "source": [
    "X_train_part, X_valid, y_train_part, y_valid = train_test_split(X_train, y_train, \n",
    "                                                                test_size=0.3, \n",
    "                                                                )"
   ]
  },
  {
   "cell_type": "code",
   "execution_count": 371,
   "metadata": {},
   "outputs": [],
   "source": [
    "ctb = CatBoostClassifier(iterations = 1500 ,random_seed=17, learning_rate = 0.2, depth = 4, silent = True, cat_features=categ_feat_idx, task_type=\"GPU\", border_count = 32)"
   ]
  },
  {
   "cell_type": "code",
   "execution_count": null,
   "metadata": {},
   "outputs": [],
   "source": [
    "ctb.fit(X_train_part, y_train_part,cat_features=categ_feat_idx)\n",
    "parameters = {'learning_rate' : np.arange(0.1, 0.4, 0.1), 'depth' : np.arange(3,6,1)}\n",
    "cv = GridSearchCV(ctb, parameters, cv=2, verbose = 3, scoring = 'roc_auc')\n",
    "cv.fit(X_train_part, y_train_part)"
   ]
  },
  {
   "cell_type": "code",
   "execution_count": 373,
   "metadata": {},
   "outputs": [
    {
     "name": "stdout",
     "output_type": "stream",
     "text": [
      "0.788808806176471\n",
      "Wall time: 3min 51s\n"
     ]
    }
   ],
   "source": [
    "%%time\n",
    "ctb.fit(X_train_part, y_train_part)\n",
    "ctb_valid_pred = ctb.predict_proba(X_valid)[:, 1]\n",
    "print(roc_auc_score(y_valid, ctb_valid_pred))"
   ]
  },
  {
   "cell_type": "code",
   "execution_count": 374,
   "metadata": {},
   "outputs": [
    {
     "data": {
      "text/html": [
       "<div>\n",
       "<style scoped>\n",
       "    .dataframe tbody tr th:only-of-type {\n",
       "        vertical-align: middle;\n",
       "    }\n",
       "\n",
       "    .dataframe tbody tr th {\n",
       "        vertical-align: top;\n",
       "    }\n",
       "\n",
       "    .dataframe thead th {\n",
       "        text-align: right;\n",
       "    }\n",
       "</style>\n",
       "<table border=\"1\" class=\"dataframe\">\n",
       "  <thead>\n",
       "    <tr style=\"text-align: right;\">\n",
       "      <th></th>\n",
       "      <th>Feature Id</th>\n",
       "      <th>Importances</th>\n",
       "    </tr>\n",
       "  </thead>\n",
       "  <tbody>\n",
       "    <tr>\n",
       "      <td>0</td>\n",
       "      <td>hour</td>\n",
       "      <td>10.386204</td>\n",
       "    </tr>\n",
       "    <tr>\n",
       "      <td>1</td>\n",
       "      <td>minute</td>\n",
       "      <td>7.633185</td>\n",
       "    </tr>\n",
       "    <tr>\n",
       "      <td>2</td>\n",
       "      <td>new9</td>\n",
       "      <td>7.264940</td>\n",
       "    </tr>\n",
       "    <tr>\n",
       "      <td>3</td>\n",
       "      <td>new5</td>\n",
       "      <td>5.911647</td>\n",
       "    </tr>\n",
       "    <tr>\n",
       "      <td>4</td>\n",
       "      <td>DepTime</td>\n",
       "      <td>5.679170</td>\n",
       "    </tr>\n",
       "    <tr>\n",
       "      <td>5</td>\n",
       "      <td>Dest</td>\n",
       "      <td>5.513651</td>\n",
       "    </tr>\n",
       "    <tr>\n",
       "      <td>6</td>\n",
       "      <td>new1</td>\n",
       "      <td>5.218234</td>\n",
       "    </tr>\n",
       "    <tr>\n",
       "      <td>7</td>\n",
       "      <td>Origin</td>\n",
       "      <td>5.173750</td>\n",
       "    </tr>\n",
       "    <tr>\n",
       "      <td>8</td>\n",
       "      <td>new8</td>\n",
       "      <td>5.079302</td>\n",
       "    </tr>\n",
       "    <tr>\n",
       "      <td>9</td>\n",
       "      <td>new6</td>\n",
       "      <td>4.725370</td>\n",
       "    </tr>\n",
       "    <tr>\n",
       "      <td>10</td>\n",
       "      <td>new2</td>\n",
       "      <td>4.651350</td>\n",
       "    </tr>\n",
       "    <tr>\n",
       "      <td>11</td>\n",
       "      <td>UniqueCarrier</td>\n",
       "      <td>4.612204</td>\n",
       "    </tr>\n",
       "    <tr>\n",
       "      <td>12</td>\n",
       "      <td>Month</td>\n",
       "      <td>4.585937</td>\n",
       "    </tr>\n",
       "    <tr>\n",
       "      <td>13</td>\n",
       "      <td>DayofMonth</td>\n",
       "      <td>4.399418</td>\n",
       "    </tr>\n",
       "    <tr>\n",
       "      <td>14</td>\n",
       "      <td>new3</td>\n",
       "      <td>4.178021</td>\n",
       "    </tr>\n",
       "    <tr>\n",
       "      <td>15</td>\n",
       "      <td>new4</td>\n",
       "      <td>4.131249</td>\n",
       "    </tr>\n",
       "    <tr>\n",
       "      <td>16</td>\n",
       "      <td>new7</td>\n",
       "      <td>4.035837</td>\n",
       "    </tr>\n",
       "    <tr>\n",
       "      <td>17</td>\n",
       "      <td>DayOfWeek</td>\n",
       "      <td>3.481969</td>\n",
       "    </tr>\n",
       "    <tr>\n",
       "      <td>18</td>\n",
       "      <td>Distance</td>\n",
       "      <td>3.338560</td>\n",
       "    </tr>\n",
       "  </tbody>\n",
       "</table>\n",
       "</div>"
      ],
      "text/plain": [
       "       Feature Id  Importances\n",
       "0            hour    10.386204\n",
       "1          minute     7.633185\n",
       "2            new9     7.264940\n",
       "3            new5     5.911647\n",
       "4         DepTime     5.679170\n",
       "5            Dest     5.513651\n",
       "6            new1     5.218234\n",
       "7          Origin     5.173750\n",
       "8            new8     5.079302\n",
       "9            new6     4.725370\n",
       "10           new2     4.651350\n",
       "11  UniqueCarrier     4.612204\n",
       "12          Month     4.585937\n",
       "13     DayofMonth     4.399418\n",
       "14           new3     4.178021\n",
       "15           new4     4.131249\n",
       "16           new7     4.035837\n",
       "17      DayOfWeek     3.481969\n",
       "18       Distance     3.338560"
      ]
     },
     "execution_count": 374,
     "metadata": {},
     "output_type": "execute_result"
    }
   ],
   "source": [
    "pd.options.display.max_rows = 10000\n",
    "ctb.get_feature_importance(prettified=True)#['Feature Id'].values"
   ]
  },
  {
   "cell_type": "code",
   "execution_count": null,
   "metadata": {},
   "outputs": [],
   "source": [
    "ctb_test_pred = ctb.predict_proba(X_test)[:, 1]"
   ]
  },
  {
   "cell_type": "code",
   "execution_count": null,
   "metadata": {},
   "outputs": [],
   "source": [
    "with warnings.catch_warnings():\n",
    "    warnings.simplefilter(\"ignore\")\n",
    "    \n",
    "    sample_sub = pd.read_csv('sample_submission.csv', index_col='id')\n",
    "    sample_sub['dep_delayed_15min'] = ctb_test_pred\n",
    "    sample_sub.to_csv('ctb_pred.csv')"
   ]
  },
  {
   "cell_type": "code",
   "execution_count": null,
   "metadata": {},
   "outputs": [],
   "source": []
  }
 ],
 "metadata": {
  "kernelspec": {
   "display_name": "Python 3",
   "language": "python",
   "name": "python3"
  },
  "language_info": {
   "codemirror_mode": {
    "name": "ipython",
    "version": 3
   },
   "file_extension": ".py",
   "mimetype": "text/x-python",
   "name": "python",
   "nbconvert_exporter": "python",
   "pygments_lexer": "ipython3",
   "version": "3.6.4"
  }
 },
 "nbformat": 4,
 "nbformat_minor": 4
}
